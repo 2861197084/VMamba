{
 "cells": [
  {
   "cell_type": "code",
   "execution_count": 6,
   "metadata": {},
   "outputs": [
    {
     "name": "stdout",
     "output_type": "stream",
     "text": [
      "Successfully load ckpt /home/LiuYue/Workspace3/ckpts/vssmsmall/ema_ckpt_epoch_238.pth\n"
     ]
    },
    {
     "ename": "NameError",
     "evalue": "name 'transforms' is not defined",
     "output_type": "error",
     "traceback": [
      "\u001b[0;31m---------------------------------------------------------------------------\u001b[0m",
      "\u001b[0;31mNameError\u001b[0m                                 Traceback (most recent call last)",
      "Cell \u001b[0;32mIn[6], line 64\u001b[0m\n\u001b[1;32m     60\u001b[0m vssm \u001b[38;5;241m=\u001b[39m build_vssm(ckpt\u001b[38;5;241m=\u001b[39mckpt, only_backbone\u001b[38;5;241m=\u001b[39m\u001b[38;5;28;01mFalse\u001b[39;00m, with_norm\u001b[38;5;241m=\u001b[39m\u001b[38;5;28;01mTrue\u001b[39;00m, depths\u001b[38;5;241m=\u001b[39m[\u001b[38;5;241m2\u001b[39m, \u001b[38;5;241m2\u001b[39m, \u001b[38;5;241m27\u001b[39m, \u001b[38;5;241m2\u001b[39m], dims\u001b[38;5;241m=\u001b[39m\u001b[38;5;241m96\u001b[39m,)\n\u001b[1;32m     61\u001b[0m vssm \u001b[38;5;241m=\u001b[39m add_hook(vssm)\n\u001b[0;32m---> 64\u001b[0m data \u001b[38;5;241m=\u001b[39m \u001b[43mbuild_dataset\u001b[49m\u001b[43m(\u001b[49m\u001b[43m)\u001b[49m\n\u001b[1;32m     65\u001b[0m out \u001b[38;5;241m=\u001b[39m vssm(data[\u001b[38;5;241m0\u001b[39m][\u001b[38;5;241m0\u001b[39m])\n\u001b[1;32m     66\u001b[0m \u001b[38;5;28mprint\u001b[39m(out)\n",
      "Cell \u001b[0;32mIn[6], line 10\u001b[0m, in \u001b[0;36mbuild_dataset\u001b[0;34m(root, img_size)\u001b[0m\n\u001b[1;32m      8\u001b[0m \u001b[38;5;28;01mdef\u001b[39;00m \u001b[38;5;21mbuild_dataset\u001b[39m(root\u001b[38;5;241m=\u001b[39mdata, img_size\u001b[38;5;241m=\u001b[39m\u001b[38;5;241m224\u001b[39m):\n\u001b[1;32m      9\u001b[0m     root \u001b[38;5;241m=\u001b[39m os\u001b[38;5;241m.\u001b[39mpath\u001b[38;5;241m.\u001b[39mjoin(root, \u001b[38;5;124m\"\u001b[39m\u001b[38;5;124mval\u001b[39m\u001b[38;5;124m\"\u001b[39m)\n\u001b[0;32m---> 10\u001b[0m     transform \u001b[38;5;241m=\u001b[39m \u001b[43mtransforms\u001b[49m\u001b[38;5;241m.\u001b[39mCompose([\n\u001b[1;32m     11\u001b[0m         transforms\u001b[38;5;241m.\u001b[39mResize(\u001b[38;5;241m256\u001b[39m\u001b[38;5;241m/\u001b[39m\u001b[38;5;241m224\u001b[39m \u001b[38;5;241m*\u001b[39m img_size, interpolation\u001b[38;5;241m=\u001b[39mInterpolationMode\u001b[38;5;241m.\u001b[39mBICUBIC),\n\u001b[1;32m     12\u001b[0m         transforms\u001b[38;5;241m.\u001b[39mCenterCrop(img_size),\n\u001b[1;32m     13\u001b[0m         transforms\u001b[38;5;241m.\u001b[39mToTensor(),\n\u001b[1;32m     14\u001b[0m         transforms\u001b[38;5;241m.\u001b[39mNormalize(IMAGENET_DEFAULT_MEAN, IMAGENET_DEFAULT_STD),\n\u001b[1;32m     15\u001b[0m     ])\n\u001b[1;32m     16\u001b[0m     dataset \u001b[38;5;241m=\u001b[39m datasets\u001b[38;5;241m.\u001b[39mImageFolder(root, transform\u001b[38;5;241m=\u001b[39mtransform)\n\u001b[1;32m     17\u001b[0m     \u001b[38;5;28;01mreturn\u001b[39;00m dataset\n",
      "\u001b[0;31mNameError\u001b[0m: name 'transforms' is not defined"
     ]
    }
   ],
   "source": [
    "import torch\n",
    "from get_scaleup import build_vssm\n",
    "from vmamba.vmamba import VSSM, SS2D\n",
    "from functools import partial\n",
    "import os\n",
    "from torchvision import transforms\n",
    "\n",
    "data = \"/dataset/ImageNet2012/\"\n",
    "def build_dataset(root=data, img_size=224):\n",
    "    root = os.path.join(root, \"val\")\n",
    "    transform = transforms.Compose([\n",
    "        transforms.Resize(256/224 * img_size, interpolation=InterpolationMode.BICUBIC),\n",
    "        transforms.CenterCrop(img_size),\n",
    "        transforms.ToTensor(),\n",
    "        transforms.Normalize(IMAGENET_DEFAULT_MEAN, IMAGENET_DEFAULT_STD),\n",
    "    ])\n",
    "    dataset = datasets.ImageFolder(root, transform=transform)\n",
    "    return dataset\n",
    "\n",
    "\n",
    "def add_hook(model: VSSM):\n",
    "\n",
    "    def ss2d_forward(self: SS2D, x: torch.Tensor = None):\n",
    "        if True:\n",
    "            B, H, W, C = x.shape\n",
    "\n",
    "            xz = self.in_proj(x)\n",
    "            x, z = xz.chunk(2, dim=-1) # (b, h, w, d)\n",
    "\n",
    "            x = x.permute(0, 3, 1, 2).contiguous()\n",
    "            x = self.act(self.conv2d(x)) # (b, d, h, w)\n",
    "            y1, y2, y3, y4 = self.forward_core(x)\n",
    "            assert y1.dtype == torch.float32\n",
    "            \n",
    "            setattr(self, \"y1\", y1)\n",
    "            setattr(self, \"y2\", y2)\n",
    "            setattr(self, \"y3\", y3)\n",
    "            setattr(self, \"y4\", y4)\n",
    "            y = y1 + y2 + y3 + y4\n",
    "            y = torch.transpose(y, dim0=1, dim1=2).contiguous().view(B, H, W, -1)\n",
    "            y = self.out_norm(y)\n",
    "            y = y * F.silu(z)\n",
    "\n",
    "            setattr(self, \"yz\", y.view(B, H * W, -1).permute(0, 2, 1))\n",
    "            \n",
    "            out = self.out_proj(y)\n",
    "            if self.dropout is not None:\n",
    "                out = self.dropout(out)\n",
    "            return out\n",
    "\n",
    "    for layer in model.layers:\n",
    "        for blk in layer.blocks:\n",
    "            ss2d = blk.self_attention\n",
    "            setattr(ss2d, \"DEBUG\", True)\n",
    "            ss2d.forward = partial(ss2d_forward, ss2d)\n",
    "\n",
    "    return model\n",
    "\n",
    "\n",
    "ckpt = \"/home/LiuYue/Workspace3/ckpts/vssmsmall/ema_ckpt_epoch_238.pth\"\n",
    "vssm = build_vssm(ckpt=ckpt, only_backbone=False, with_norm=True, depths=[2, 2, 27, 2], dims=96,)\n",
    "vssm = add_hook(vssm)\n",
    "\n",
    "\n",
    "data = build_dataset()\n",
    "out = vssm(data[0][0])\n",
    "print(out)\n",
    "\n",
    "\n"
   ]
  }
 ],
 "metadata": {
  "kernelspec": {
   "display_name": "mamba",
   "language": "python",
   "name": "python3"
  },
  "language_info": {
   "codemirror_mode": {
    "name": "ipython",
    "version": 3
   },
   "file_extension": ".py",
   "mimetype": "text/x-python",
   "name": "python",
   "nbconvert_exporter": "python",
   "pygments_lexer": "ipython3",
   "version": "3.10.13"
  }
 },
 "nbformat": 4,
 "nbformat_minor": 2
}
